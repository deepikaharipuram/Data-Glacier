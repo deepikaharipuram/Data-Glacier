{
  "nbformat": 4,
  "nbformat_minor": 5,
  "metadata": {
    "noteable-chatgpt": {
      "create_notebook": {
        "openai_conversation_id": "b063c879-f7e7-54ac-b7e1-f7ce89ff4487",
        "openai_ephemeral_user_id": "85149825-b2e6-5abe-84ae-9aa5f31f7fbe",
        "openai_subdivision1_iso_code": "CA-ON"
      }
    },
    "kernel_info": {
      "name": "python3"
    },
    "kernelspec": {
      "display_name": "Python 3.9",
      "identifier": "legacy",
      "language": "python",
      "language_version": "3.9",
      "name": "python3"
    },
    "selected_hardware_size": "small"
  },
  "cells": [
    {
      "id": "f00312d1-bdb8-47a6-ba6f-6811b19e70de",
      "cell_type": "markdown",
      "source": "## Insight for Cab investment firm\n\n### Business problem:\n\nXYZ is a private firm in US. Due to remarkable growth in the Cab Industry in last few years and multiple key players in the market, it is planning for an investment in Cab industry and as per their Go-to-Market(G2M) strategy they want to understand the market before taking final decision.",
      "metadata": {
        "noteable": {
          "cell_type": "markdown"
        }
      }
    },
    {
      "id": "59d205e3-4cb2-436e-9d4b-d773c54f66a6",
      "cell_type": "markdown",
      "source": "## Data Collection\n### Load data sets and view structure",
      "metadata": {
        "noteable": {
          "cell_type": "markdown"
        }
      }
    },
    {
      "id": "a9f2666c-134e-4643-8d89-ee163eb786c3",
      "cell_type": "code",
      "metadata": {
        "noteable": {
          "cell_type": "code",
          "output_collection_id": "83da35ff-a8fc-4581-bfb8-39cd18034713"
        },
        "ExecuteTime": {
          "end_time": "2023-10-14T00:37:06.392479+00:00",
          "start_time": "2023-10-14T00:37:05.847202+00:00"
        }
      },
      "execution_count": null,
      "source": "import pandas as pd\n\n# Load the datasets\ncab_data = pd.read_csv('Cab_Data.csv')\ncustomer_id_data = pd.read_csv('Customer_ID.csv')\ntransaction_id_data = pd.read_csv('Transaction_ID.csv')\ncity_data = pd.read_csv('City.csv')\n\n# Display the first few rows of each dataset to understand their structure\ncab_data.head(), customer_id_data.head(), transaction_id_data.head(), city_data.head()",
      "outputs": []
    },
    {
      "id": "badd11ab-b491-4c7d-92e2-0e1f1e20ebbd",
      "cell_type": "code",
      "metadata": {
        "noteable": {
          "cell_type": "code",
          "output_collection_id": "40a297b7-3413-4ce3-b9fb-0fe5539d1598"
        },
        "ExecuteTime": {
          "end_time": "2023-10-14T00:37:10.402082+00:00",
          "start_time": "2023-10-14T00:37:08.539892+00:00"
        },
        "datalink": {
          "009a0d82-d584-4427-8143-ed03c736b2bd": {
            "applied_filters": [],
            "dataframe_info": {
              "default_index_used": true,
              "orig_num_cols": 7,
              "orig_num_rows": 5,
              "orig_size_bytes": 320,
              "truncated_num_cols": 7,
              "truncated_num_rows": 5,
              "truncated_size_bytes": 320,
              "truncated_string_columns": []
            },
            "display_id": "009a0d82-d584-4427-8143-ed03c736b2bd",
            "dx_settings": {
              "ALLOW_NOTEABLE_ATTRS": true,
              "COLUMN_SAMPLING_METHOD": "outer",
              "DB_LOCATION": ":memory:",
              "DEV_MODE": false,
              "DISPLAY_MAX_COLUMNS": 100,
              "DISPLAY_MAX_ROWS": 50000,
              "DISPLAY_MODE": "simple",
              "ENABLE_ASSIGNMENT": true,
              "ENABLE_DATALINK": true,
              "FLATTEN_COLUMN_VALUES": true,
              "FLATTEN_INDEX_VALUES": false,
              "GENERATE_DEX_METADATA": false,
              "HTML_TABLE_SCHEMA": false,
              "LOG_LEVEL": 30,
              "MAX_RENDER_SIZE_BYTES": 104857600,
              "MAX_STRING_LENGTH": 250,
              "NUM_PAST_SAMPLES_TRACKED": 3,
              "RANDOM_STATE": 12648430,
              "RESET_INDEX_VALUES": false,
              "ROW_SAMPLING_METHOD": "random",
              "SAMPLING_FACTOR": 0.1,
              "SAMPLING_METHOD": "random",
              "STRINGIFY_COLUMN_VALUES": true,
              "STRINGIFY_INDEX_VALUES": false
            },
            "sample_history": [],
            "sampling_time": "2023-10-11T20:04:46.772373",
            "user_variable_name": null,
            "variable_name": "unk_dataframe_519f2a3348e64acf8666c74abdbd9d60"
          },
          "ad621b5d-c20b-4953-8bbc-e6bf32976564": {
            "applied_filters": [],
            "dataframe_info": {
              "default_index_used": true,
              "orig_num_cols": 7,
              "orig_num_rows": 15,
              "orig_size_bytes": 960,
              "truncated_num_cols": 7,
              "truncated_num_rows": 15,
              "truncated_size_bytes": 960,
              "truncated_string_columns": []
            },
            "display_id": "ad621b5d-c20b-4953-8bbc-e6bf32976564",
            "dx_settings": {
              "ALLOW_NOTEABLE_ATTRS": true,
              "COLUMN_SAMPLING_METHOD": "outer",
              "DB_LOCATION": ":memory:",
              "DEV_MODE": false,
              "DISPLAY_MAX_COLUMNS": 100,
              "DISPLAY_MAX_ROWS": 50000,
              "DISPLAY_MODE": "simple",
              "ENABLE_ASSIGNMENT": true,
              "ENABLE_DATALINK": true,
              "FLATTEN_COLUMN_VALUES": true,
              "FLATTEN_INDEX_VALUES": false,
              "GENERATE_DEX_METADATA": false,
              "HTML_TABLE_SCHEMA": false,
              "LOG_LEVEL": 30,
              "MAX_RENDER_SIZE_BYTES": 104857600,
              "MAX_STRING_LENGTH": 250,
              "NUM_PAST_SAMPLES_TRACKED": 3,
              "RANDOM_STATE": 12648430,
              "RESET_INDEX_VALUES": false,
              "ROW_SAMPLING_METHOD": "random",
              "SAMPLING_FACTOR": 0.1,
              "SAMPLING_METHOD": "random",
              "STRINGIFY_COLUMN_VALUES": true,
              "STRINGIFY_INDEX_VALUES": false
            },
            "sample_history": [],
            "sampling_time": "2023-10-11T20:35:47.410868",
            "user_variable_name": null,
            "variable_name": "unk_dataframe_5a5584ee4d1e4338afb06761a4060f81"
          },
          "fb735fd6-8806-409f-bcdd-97a19cd0ce53": {
            "applied_filters": [],
            "dataframe_info": {
              "default_index_used": true,
              "orig_num_cols": 7,
              "orig_num_rows": 15,
              "orig_size_bytes": 960,
              "truncated_num_cols": 7,
              "truncated_num_rows": 15,
              "truncated_size_bytes": 960,
              "truncated_string_columns": []
            },
            "display_id": "fb735fd6-8806-409f-bcdd-97a19cd0ce53",
            "dx_settings": {
              "ALLOW_NOTEABLE_ATTRS": true,
              "COLUMN_SAMPLING_METHOD": "outer",
              "DB_LOCATION": ":memory:",
              "DEV_MODE": false,
              "DISPLAY_MAX_COLUMNS": 100,
              "DISPLAY_MAX_ROWS": 50000,
              "DISPLAY_MODE": "simple",
              "ENABLE_ASSIGNMENT": true,
              "ENABLE_DATALINK": true,
              "FLATTEN_COLUMN_VALUES": true,
              "FLATTEN_INDEX_VALUES": false,
              "GENERATE_DEX_METADATA": false,
              "HTML_TABLE_SCHEMA": false,
              "LOG_LEVEL": 30,
              "MAX_RENDER_SIZE_BYTES": 104857600,
              "MAX_STRING_LENGTH": 250,
              "NUM_PAST_SAMPLES_TRACKED": 3,
              "RANDOM_STATE": 12648430,
              "RESET_INDEX_VALUES": false,
              "ROW_SAMPLING_METHOD": "random",
              "SAMPLING_FACTOR": 0.1,
              "SAMPLING_METHOD": "random",
              "STRINGIFY_COLUMN_VALUES": true,
              "STRINGIFY_INDEX_VALUES": false
            },
            "sample_history": [],
            "sampling_time": "2023-10-12T20:47:41.933082",
            "user_variable_name": null,
            "variable_name": "unk_dataframe_bb985dc749764a4dae8ca821715505d4"
          },
          "a676047c-b344-418e-9538-c2ec222d89c5": {
            "applied_filters": [],
            "dataframe_info": {
              "default_index_used": true,
              "orig_num_cols": 7,
              "orig_num_rows": 15,
              "orig_size_bytes": 960,
              "truncated_num_cols": 7,
              "truncated_num_rows": 15,
              "truncated_size_bytes": 960,
              "truncated_string_columns": []
            },
            "display_id": "a676047c-b344-418e-9538-c2ec222d89c5",
            "dx_settings": {
              "ALLOW_NOTEABLE_ATTRS": true,
              "COLUMN_SAMPLING_METHOD": "outer",
              "DB_LOCATION": ":memory:",
              "DEV_MODE": false,
              "DISPLAY_MAX_COLUMNS": 100,
              "DISPLAY_MAX_ROWS": 50000,
              "DISPLAY_MODE": "simple",
              "ENABLE_ASSIGNMENT": true,
              "ENABLE_DATALINK": true,
              "FLATTEN_COLUMN_VALUES": true,
              "FLATTEN_INDEX_VALUES": false,
              "GENERATE_DEX_METADATA": false,
              "HTML_TABLE_SCHEMA": false,
              "LOG_LEVEL": 30,
              "MAX_RENDER_SIZE_BYTES": 104857600,
              "MAX_STRING_LENGTH": 250,
              "NUM_PAST_SAMPLES_TRACKED": 3,
              "RANDOM_STATE": 12648430,
              "RESET_INDEX_VALUES": false,
              "ROW_SAMPLING_METHOD": "random",
              "SAMPLING_FACTOR": 0.1,
              "SAMPLING_METHOD": "random",
              "STRINGIFY_COLUMN_VALUES": true,
              "STRINGIFY_INDEX_VALUES": false
            },
            "sample_history": [],
            "sampling_time": "2023-10-14T00:37:10.233855",
            "user_variable_name": null,
            "variable_name": "unk_dataframe_3dd13f88f21f47e897a4e6ffd2123fe4"
          }
        },
        "jupyter": {
          "outputs_hidden": false
        }
      },
      "execution_count": null,
      "source": "# Convert 'Date of Travel' from integer to datetime format\ncab_data['Date of Travel'] = pd.to_datetime(cab_data['Date of Travel'], origin='1899-12-30', unit='D')\n\n# Filter data based on the given time period\nstart_date = '2016-01-31'\nend_date = '2018-12-31'\nfiltered_cab_data = cab_data[(cab_data['Date of Travel'] >= start_date) & (cab_data['Date of Travel'] <= end_date)]\n\n# Display the first few rows of the filtered data\nfiltered_cab_data.head(15)",
      "outputs": []
    },
    {
      "id": "13e737bf-42f3-46ac-84b0-68190921a64e",
      "cell_type": "code",
      "metadata": {
        "noteable": {
          "cell_type": "code",
          "output_collection_id": "b93010a5-fc58-412b-bd5a-751bedd8a950"
        },
        "ExecuteTime": {
          "end_time": "2023-10-14T00:37:17.087199+00:00",
          "start_time": "2023-10-14T00:37:16.682112+00:00"
        }
      },
      "execution_count": null,
      "source": "# Check for missing values in all datasets\nmissing_values = {\n    'Cab_Data': filtered_cab_data.isnull().sum(),\n    'Customer_ID': customer_id_data.isnull().sum(),\n    'Transaction_ID': transaction_id_data.isnull().sum(),\n    'City': city_data.isnull().sum()\n}\n\n# Check for duplicates in all datasets\nduplicates = {\n    'Cab_Data': filtered_cab_data.duplicated().sum(),\n    'Customer_ID': customer_id_data.duplicated().sum(),\n    'Transaction_ID': transaction_id_data.duplicated().sum(),\n    'City': city_data.duplicated().sum()\n}\nmissing_values, duplicates",
      "outputs": []
    },
    {
      "id": "9346e86b-1234-4c84-a527-0ef875325ce3",
      "cell_type": "code",
      "metadata": {
        "noteable": {
          "cell_type": "code",
          "output_collection_id": "da9ce076-4e1a-4564-99df-33b2d49f73d7"
        },
        "ExecuteTime": {
          "end_time": "2023-10-14T00:37:22.741304+00:00",
          "start_time": "2023-10-14T00:37:19.709238+00:00"
        },
        "datalink": {
          "667a5983-3a71-478f-b16f-173eabf6369a": {
            "applied_filters": [],
            "dataframe_info": {
              "default_index_used": true,
              "orig_num_cols": 12,
              "orig_num_rows": 5,
              "orig_size_bytes": 520,
              "truncated_num_cols": 12,
              "truncated_num_rows": 5,
              "truncated_size_bytes": 520,
              "truncated_string_columns": []
            },
            "display_id": "667a5983-3a71-478f-b16f-173eabf6369a",
            "dx_settings": {
              "ALLOW_NOTEABLE_ATTRS": true,
              "COLUMN_SAMPLING_METHOD": "outer",
              "DB_LOCATION": ":memory:",
              "DEV_MODE": false,
              "DISPLAY_MAX_COLUMNS": 100,
              "DISPLAY_MAX_ROWS": 50000,
              "DISPLAY_MODE": "simple",
              "ENABLE_ASSIGNMENT": true,
              "ENABLE_DATALINK": true,
              "FLATTEN_COLUMN_VALUES": true,
              "FLATTEN_INDEX_VALUES": false,
              "GENERATE_DEX_METADATA": false,
              "HTML_TABLE_SCHEMA": false,
              "LOG_LEVEL": 30,
              "MAX_RENDER_SIZE_BYTES": 104857600,
              "MAX_STRING_LENGTH": 250,
              "NUM_PAST_SAMPLES_TRACKED": 3,
              "RANDOM_STATE": 12648430,
              "RESET_INDEX_VALUES": false,
              "ROW_SAMPLING_METHOD": "random",
              "SAMPLING_FACTOR": 0.1,
              "SAMPLING_METHOD": "random",
              "STRINGIFY_COLUMN_VALUES": true,
              "STRINGIFY_INDEX_VALUES": false
            },
            "sample_history": [],
            "sampling_time": "2023-10-11T20:06:14.616114",
            "user_variable_name": null,
            "variable_name": "unk_dataframe_59a4486d52c740259aee8f814a9e8655"
          },
          "b705edd0-bdfa-4dae-8f7f-f115de081192": {
            "applied_filters": [],
            "dataframe_info": {
              "default_index_used": true,
              "orig_num_cols": 12,
              "orig_num_rows": 5,
              "orig_size_bytes": 520,
              "truncated_num_cols": 12,
              "truncated_num_rows": 5,
              "truncated_size_bytes": 520,
              "truncated_string_columns": []
            },
            "display_id": "b705edd0-bdfa-4dae-8f7f-f115de081192",
            "dx_settings": {
              "ALLOW_NOTEABLE_ATTRS": true,
              "COLUMN_SAMPLING_METHOD": "outer",
              "DB_LOCATION": ":memory:",
              "DEV_MODE": false,
              "DISPLAY_MAX_COLUMNS": 100,
              "DISPLAY_MAX_ROWS": 50000,
              "DISPLAY_MODE": "simple",
              "ENABLE_ASSIGNMENT": true,
              "ENABLE_DATALINK": true,
              "FLATTEN_COLUMN_VALUES": true,
              "FLATTEN_INDEX_VALUES": false,
              "GENERATE_DEX_METADATA": false,
              "HTML_TABLE_SCHEMA": false,
              "LOG_LEVEL": 30,
              "MAX_RENDER_SIZE_BYTES": 104857600,
              "MAX_STRING_LENGTH": 250,
              "NUM_PAST_SAMPLES_TRACKED": 3,
              "RANDOM_STATE": 12648430,
              "RESET_INDEX_VALUES": false,
              "ROW_SAMPLING_METHOD": "random",
              "SAMPLING_FACTOR": 0.1,
              "SAMPLING_METHOD": "random",
              "STRINGIFY_COLUMN_VALUES": true,
              "STRINGIFY_INDEX_VALUES": false
            },
            "sample_history": [],
            "sampling_time": "2023-10-12T20:47:54.162048",
            "user_variable_name": null,
            "variable_name": "unk_dataframe_2a1b5931284b44779c5cea732218d8d2"
          },
          "293fc80b-7770-41b6-9fb2-d88b50e410b4": {
            "applied_filters": [],
            "dataframe_info": {
              "default_index_used": true,
              "orig_num_cols": 12,
              "orig_num_rows": 5,
              "orig_size_bytes": 520,
              "truncated_num_cols": 12,
              "truncated_num_rows": 5,
              "truncated_size_bytes": 520,
              "truncated_string_columns": []
            },
            "display_id": "293fc80b-7770-41b6-9fb2-d88b50e410b4",
            "dx_settings": {
              "ALLOW_NOTEABLE_ATTRS": true,
              "COLUMN_SAMPLING_METHOD": "outer",
              "DB_LOCATION": ":memory:",
              "DEV_MODE": false,
              "DISPLAY_MAX_COLUMNS": 100,
              "DISPLAY_MAX_ROWS": 50000,
              "DISPLAY_MODE": "simple",
              "ENABLE_ASSIGNMENT": true,
              "ENABLE_DATALINK": true,
              "FLATTEN_COLUMN_VALUES": true,
              "FLATTEN_INDEX_VALUES": false,
              "GENERATE_DEX_METADATA": false,
              "HTML_TABLE_SCHEMA": false,
              "LOG_LEVEL": 30,
              "MAX_RENDER_SIZE_BYTES": 104857600,
              "MAX_STRING_LENGTH": 250,
              "NUM_PAST_SAMPLES_TRACKED": 3,
              "RANDOM_STATE": 12648430,
              "RESET_INDEX_VALUES": false,
              "ROW_SAMPLING_METHOD": "random",
              "SAMPLING_FACTOR": 0.1,
              "SAMPLING_METHOD": "random",
              "STRINGIFY_COLUMN_VALUES": true,
              "STRINGIFY_INDEX_VALUES": false
            },
            "sample_history": [],
            "sampling_time": "2023-10-14T00:37:22.577729",
            "user_variable_name": null,
            "variable_name": "unk_dataframe_3e025966e926495c91c5c9f9c88e3d67"
          }
        }
      },
      "execution_count": null,
      "source": "# Joining the datasets based on common identifiers\n\n# Joining Cab_Data with Transaction_ID on 'Transaction ID'\nmerged_data = pd.merge(filtered_cab_data, transaction_id_data, on='Transaction ID', how='left')\n\n# Joining the merged data with Customer_ID on 'Customer ID'\nmerged_data = pd.merge(merged_data, customer_id_data, on='Customer ID', how='left')\n\n# Display the first few rows of the merged dataset\nmerged_data.head()",
      "outputs": []
    },
    {
      "id": "01765543-008d-442e-98de-27eb551d4707",
      "cell_type": "markdown",
      "source": "## Cab Service Metrics: Distance, Pricing, Costs, and Company Popularity",
      "metadata": {
        "noteable": {
          "cell_type": "markdown"
        }
      }
    },
    {
      "id": "a9e44191-1a4d-4af1-99fa-939c7fb46d2c",
      "cell_type": "code",
      "metadata": {
        "noteable": {
          "cell_type": "code",
          "output_collection_id": "fe8fa1fe-e9c0-4d28-8ec9-ce6f3d607ce9"
        },
        "ExecuteTime": {
          "end_time": "2023-10-14T00:48:15.266203+00:00",
          "start_time": "2023-10-14T00:48:09.744681+00:00"
        }
      },
      "execution_count": null,
      "source": "import matplotlib.pyplot as plt\nimport seaborn as sns\n# Set the style of the visualization\nsns.set_theme(style=\"darkgrid\", palette=\"pastel\")\n\n# Create a figure and a set of subplots\nfig, axs = plt.subplots(nrows=2, ncols=2, figsize=(15, 10))\n\n# Plot distribution of 'KM Travelled'\nsns.kdeplot(merged_data['KM Travelled'], fill=True, ax=axs[0, 0], shade_lowest=False)\naxs[0, 0].set_title('Distribution of KM Travelled')\n\n# Plot distribution of 'Price Charged'\nsns.kdeplot(merged_data['Price Charged'], fill=True, ax=axs[0, 1], shade_lowest=False)\naxs[0, 1].set_title('Distribution of Price Charged')\n\n# Plot distribution of 'Cost of Trip'\nsns.kdeplot(merged_data['Cost of Trip'], fill=True, ax=axs[1, 0], shade_lowest=False)\naxs[1, 0].set_title('Distribution of Cost of Trip')\n\n# Plot count of customers for each cab company\nsns.countplot(x='Company', data=merged_data, ax=axs[1, 1], palette=['pink', 'yellow'])\naxs[1, 1].set_title('Count of Customers for Each Cab Company')\n\n# Adjust the layout of the plots\nplt.tight_layout()\nplt.show()",
      "outputs": []
    },
    {
      "id": "83878fcd-ce5c-4c6d-b57f-bc9be74aedac",
      "cell_type": "markdown",
      "source": "### Analysis of Cab Service Metrics: \n\nThe first three histograms provide insights into the distribution of key metrics for cab rides: distance traveled, price charged, and the cost of the trip. Most rides fall within the 10-30 KM range, indicating short to medium-length trips are predominant. The distribution of 'Price Charged' reveals that most fares are clustered between 0 to 500 USD, with a few instances of higher charges, possibly for longer rides or premium services. The 'Cost of Trip' histogram shows a similar pattern to 'KM Travelled', suggesting a direct correlation between distance and cost.\n\nThe bar chart on the bottom right showcases the popularity of the two cab companies. Yellow Cab has a significantly higher customer count compared to Pink Cab. This could be attributed to various factors such as wider availability, better service, or more aggressive marketing. However, the sheer difference in customer counts suggests that Yellow Cab holds a dominant position in the market, making it a potential frontrunner for investment opportunities.",
      "metadata": {}
    },
    {
      "id": "c6624759-3dcb-44dc-b380-cdb0e2942c28",
      "cell_type": "markdown",
      "source": "## Market Share Distribution: Yellow Cab vs. Pink Cab",
      "metadata": {
        "noteable": {
          "cell_type": "markdown"
        }
      }
    },
    {
      "id": "49b52822-0a31-443c-bc10-bdd76f414b11",
      "cell_type": "code",
      "metadata": {
        "noteable": {
          "cell_type": "code",
          "output_collection_id": "8a0d60ea-1d0c-4746-8d34-3c63c302173e"
        },
        "ExecuteTime": {
          "end_time": "2023-10-12T21:02:17.760074+00:00",
          "start_time": "2023-10-12T21:02:17.411585+00:00"
        },
        "jupyter": {
          "source_hidden": false,
          "outputs_hidden": false
        }
      },
      "execution_count": null,
      "source": "# Analyzing which company has the maximum cab users during the specified time period\ncompany_users = merged_data['Company'].value_counts()\n\n# Plotting\ncolors = ['pink', 'yellow']\nexplode = (0.1, 0)  # explode 1st slice\nlabels = ['Pink Cab', 'Yellow Cab']\nplt.figure(figsize=(10, 6))\nplt.pie(company_users, explode=explode, labels=labels, colors=colors,\nautopct='%1.1f%%', shadow=True, startangle=180)\nplt.title('Distribution of Users between Pink Cab and Yellow Cab')\nplt.axis('equal')  # Equal aspect ratio ensures that pie is drawn as a circle.\nplt.show()",
      "outputs": []
    },
    {
      "id": "20b46496-d8c8-45b3-8837-56bda885b281",
      "cell_type": "markdown",
      "source": "### Analysis of Cab Users by Company\n\nThe pie chart provides a clear representation of the market share between the two cab companies over the specified time period. Yellow Cab dominates the market with a substantial 77.2% of the total users, more than three times the user base of Pink Cab, which holds only 22.8%. This significant difference indicates that Yellow Cab has a more extensive reach and possibly offers services that are more aligned with the preferences or needs of the majority of cab users.\n\nHowever, a larger user base doesn't necessarily equate to higher profitability. While Yellow Cab has captured a more significant portion of the market, it's essential to delve deeper into operational costs, pricing strategies, and customer satisfaction to determine the overall profitability and sustainability of each company. The data suggests that any potential investor or stakeholder should consider both the market share and the underlying factors contributing to these numbers before making informed decisions.",
      "metadata": {
        "noteable": {
          "cell_type": "markdown"
        }
      }
    },
    {
      "id": "9adbf9b0-e271-4a34-b2ee-60e047ebd3db",
      "cell_type": "markdown",
      "source": "## Calculate profits for each cab company",
      "metadata": {
        "noteable": {
          "cell_type": "markdown"
        }
      }
    },
    {
      "id": "d1d54085-8a34-4e31-9ae8-5a01250f7777",
      "cell_type": "code",
      "metadata": {
        "noteable": {
          "cell_type": "code",
          "output_collection_id": "ddbaa3d5-b933-4afc-bf52-4173c5c0587e"
        },
        "ExecuteTime": {
          "end_time": "2023-10-12T21:10:28.229369+00:00",
          "start_time": "2023-10-12T21:10:23.473431+00:00"
        },
        "datalink": {
          "844501d0-d9b6-4b63-8b33-30e0714104b8": {
            "applied_filters": [],
            "dataframe_info": {
              "default_index_used": false,
              "orig_num_cols": 1,
              "orig_num_rows": 2,
              "orig_size_bytes": 32,
              "truncated_num_cols": 1,
              "truncated_num_rows": 2,
              "truncated_size_bytes": 32,
              "truncated_string_columns": []
            },
            "display_id": "844501d0-d9b6-4b63-8b33-30e0714104b8",
            "dx_settings": {
              "ALLOW_NOTEABLE_ATTRS": true,
              "COLUMN_SAMPLING_METHOD": "outer",
              "DB_LOCATION": ":memory:",
              "DEV_MODE": false,
              "DISPLAY_MAX_COLUMNS": 100,
              "DISPLAY_MAX_ROWS": 50000,
              "DISPLAY_MODE": "simple",
              "ENABLE_ASSIGNMENT": true,
              "ENABLE_DATALINK": true,
              "FLATTEN_COLUMN_VALUES": true,
              "FLATTEN_INDEX_VALUES": false,
              "GENERATE_DEX_METADATA": false,
              "HTML_TABLE_SCHEMA": false,
              "LOG_LEVEL": 30,
              "MAX_RENDER_SIZE_BYTES": 104857600,
              "MAX_STRING_LENGTH": 250,
              "NUM_PAST_SAMPLES_TRACKED": 3,
              "RANDOM_STATE": 12648430,
              "RESET_INDEX_VALUES": false,
              "ROW_SAMPLING_METHOD": "random",
              "SAMPLING_FACTOR": 0.1,
              "SAMPLING_METHOD": "random",
              "STRINGIFY_COLUMN_VALUES": true,
              "STRINGIFY_INDEX_VALUES": false
            },
            "sample_history": [],
            "sampling_time": "2023-10-11T20:08:57.463383",
            "user_variable_name": "average_profit",
            "variable_name": "average_profit"
          },
          "1c374b61-cf02-41d6-8d85-fb0d2f5cf017": {
            "applied_filters": [],
            "dataframe_info": {
              "default_index_used": false,
              "orig_num_cols": 1,
              "orig_num_rows": 2,
              "orig_size_bytes": 32,
              "truncated_num_cols": 1,
              "truncated_num_rows": 2,
              "truncated_size_bytes": 32,
              "truncated_string_columns": []
            },
            "display_id": "1c374b61-cf02-41d6-8d85-fb0d2f5cf017",
            "dx_settings": {
              "ALLOW_NOTEABLE_ATTRS": true,
              "COLUMN_SAMPLING_METHOD": "outer",
              "DB_LOCATION": ":memory:",
              "DEV_MODE": false,
              "DISPLAY_MAX_COLUMNS": 100,
              "DISPLAY_MAX_ROWS": 50000,
              "DISPLAY_MODE": "simple",
              "ENABLE_ASSIGNMENT": true,
              "ENABLE_DATALINK": true,
              "FLATTEN_COLUMN_VALUES": true,
              "FLATTEN_INDEX_VALUES": false,
              "GENERATE_DEX_METADATA": false,
              "HTML_TABLE_SCHEMA": false,
              "LOG_LEVEL": 30,
              "MAX_RENDER_SIZE_BYTES": 104857600,
              "MAX_STRING_LENGTH": 250,
              "NUM_PAST_SAMPLES_TRACKED": 3,
              "RANDOM_STATE": 12648430,
              "RESET_INDEX_VALUES": false,
              "ROW_SAMPLING_METHOD": "random",
              "SAMPLING_FACTOR": 0.1,
              "SAMPLING_METHOD": "random",
              "STRINGIFY_COLUMN_VALUES": true,
              "STRINGIFY_INDEX_VALUES": false
            },
            "sample_history": [],
            "sampling_time": "2023-10-12T20:48:24.712905",
            "user_variable_name": "average_profit",
            "variable_name": "average_profit"
          },
          "68612d33-b796-457a-a5b7-bf72981f8eeb": {
            "applied_filters": [],
            "dataframe_info": {
              "default_index_used": false,
              "orig_num_cols": 1,
              "orig_num_rows": 2,
              "orig_size_bytes": 32,
              "truncated_num_cols": 1,
              "truncated_num_rows": 2,
              "truncated_size_bytes": 32,
              "truncated_string_columns": []
            },
            "display_id": "68612d33-b796-457a-a5b7-bf72981f8eeb",
            "dx_settings": {
              "ALLOW_NOTEABLE_ATTRS": true,
              "COLUMN_SAMPLING_METHOD": "outer",
              "DB_LOCATION": ":memory:",
              "DEV_MODE": false,
              "DISPLAY_MAX_COLUMNS": 100,
              "DISPLAY_MAX_ROWS": 50000,
              "DISPLAY_MODE": "simple",
              "ENABLE_ASSIGNMENT": true,
              "ENABLE_DATALINK": true,
              "FLATTEN_COLUMN_VALUES": true,
              "FLATTEN_INDEX_VALUES": false,
              "GENERATE_DEX_METADATA": false,
              "HTML_TABLE_SCHEMA": false,
              "LOG_LEVEL": 30,
              "MAX_RENDER_SIZE_BYTES": 104857600,
              "MAX_STRING_LENGTH": 250,
              "NUM_PAST_SAMPLES_TRACKED": 3,
              "RANDOM_STATE": 12648430,
              "RESET_INDEX_VALUES": false,
              "ROW_SAMPLING_METHOD": "random",
              "SAMPLING_FACTOR": 0.1,
              "SAMPLING_METHOD": "random",
              "STRINGIFY_COLUMN_VALUES": true,
              "STRINGIFY_INDEX_VALUES": false
            },
            "sample_history": [],
            "sampling_time": "2023-10-12T21:10:28.071740",
            "user_variable_name": "average_profit",
            "variable_name": "average_profit"
          }
        }
      },
      "execution_count": null,
      "source": "# Calculate profit for each trip\nmerged_data['Profit'] = merged_data['Price Charged'] - merged_data['Cost of Trip']\n\n# Calculate average profit for each cab company\naverage_profit = merged_data.groupby('Company')['Profit'].mean()\naverage_profit",
      "outputs": []
    },
    {
      "id": "8b54e52d-a95a-4a18-9b40-a307df596872",
      "cell_type": "markdown",
      "source": "## Payment mode distribution for both companies",
      "metadata": {
        "noteable": {
          "cell_type": "markdown"
        }
      }
    },
    {
      "id": "35e0e5aa-26e0-408d-b1d4-8ee118768dfb",
      "cell_type": "code",
      "metadata": {
        "noteable": {
          "cell_type": "code",
          "output_collection_id": "6349a0ca-d22b-45c5-b864-da9fc2389d66"
        },
        "ExecuteTime": {
          "end_time": "2023-10-14T01:15:49.905303+00:00",
          "start_time": "2023-10-14T01:15:49.348895+00:00"
        }
      },
      "execution_count": null,
      "source": "import matplotlib.pyplot as plt\n\n# Data preparation\npayment_data = merged_data.groupby(['Company', 'Payment_Mode']).size().reset_index(name='Counts')\nyellow_data = payment_data[payment_data['Company'] == 'Yellow Cab']\npink_data = payment_data[payment_data['Company'] == 'Pink Cab']\n\n# Plotting\nfig, ax = plt.subplots(1, 2, figsize=(15, 7))\n\n# Yellow Cab\nax[0].pie(yellow_data['Counts'], labels=yellow_data['Payment_Mode'], autopct='%1.1f%%', startangle=90, colors=['#FFD700', '#FF6347'], wedgeprops=dict(width=0.3))\nax[0].set_title('Yellow Cab Payment Mode Distribution', fontsize=15)\n\n# Pink Cab\nax[1].pie(pink_data['Counts'], labels=pink_data['Payment_Mode'], autopct='%1.1f%%', startangle=90, colors=['#FFC0CB', '#D8BFD8'], wedgeprops=dict(width=0.3))\nax[1].set_title('Pink Cab Payment Mode Distribution', fontsize=15)\n\nplt.tight_layout()\nplt.show()",
      "outputs": []
    },
    {
      "id": "533c9b0f-1feb-4c84-bb9a-14fb2daae72a",
      "cell_type": "markdown",
      "source": "### Analysis of Cab Service Payment Trends\n\nThe donut charts vividly illustrate the payment preferences of customers across two major cab service providers: Pink Cab and Yellow Cab. For both companies, card payments dominate, underscoring a broader trend in consumer behavior favoring digital transactions. Specifically, Yellow Cab sees an overwhelming preference for card payments, with a staggering 85% of its customers opting for this mode. Pink Cab, while also leaning towards card transactions, has a slightly more balanced distribution, with approximately 70% of its users choosing cards.\n\nThis divergence in payment methods between the two companies might hint at differing customer demographics or operational strategies. For instance, Yellow Cab's higher card payment percentage could suggest a more tech-savvy user base or perhaps more effective promotions encouraging digital payments. On the other hand, Pink Cab's relatively higher cash transactions might indicate a customer base that values traditional payment methods or operates in areas with less digital penetration. For both companies, understanding these nuances is essential to tailor their payment infrastructure and marketing strategies effectively.",
      "metadata": {
        "noteable": {
          "cell_type": "markdown"
        }
      }
    },
    {
      "id": "4056b9f4-0867-4734-aeea-fd45c8bd1311",
      "cell_type": "markdown",
      "source": "## Analysis of Quarterly Revenue and Profit for Yellow Cab and Pink Cab",
      "metadata": {
        "noteable": {
          "cell_type": "markdown"
        }
      }
    },
    {
      "id": "52327d71-67a3-468f-b011-4a9857e2c0c5",
      "cell_type": "code",
      "metadata": {
        "noteable": {
          "cell_type": "code",
          "output_collection_id": "334b2c5f-c534-4295-a492-8a9e50334ed5"
        },
        "ExecuteTime": {
          "end_time": "2023-10-14T01:38:21.725526+00:00",
          "start_time": "2023-10-14T01:38:21.073120+00:00"
        },
        "datalink": {
          "8f53cab4-0cf7-4ea1-9323-9eabf5f97b56": {
            "applied_filters": [],
            "dataframe_info": {
              "default_index_used": false,
              "orig_num_cols": 6,
              "orig_num_rows": 5,
              "orig_size_bytes": 280,
              "truncated_num_cols": 6,
              "truncated_num_rows": 5,
              "truncated_size_bytes": 280,
              "truncated_string_columns": []
            },
            "display_id": "8f53cab4-0cf7-4ea1-9323-9eabf5f97b56",
            "dx_settings": {
              "ALLOW_NOTEABLE_ATTRS": true,
              "COLUMN_SAMPLING_METHOD": "outer",
              "DB_LOCATION": ":memory:",
              "DEV_MODE": false,
              "DISPLAY_MAX_COLUMNS": 100,
              "DISPLAY_MAX_ROWS": 50000,
              "DISPLAY_MODE": "simple",
              "ENABLE_ASSIGNMENT": true,
              "ENABLE_DATALINK": true,
              "FLATTEN_COLUMN_VALUES": true,
              "FLATTEN_INDEX_VALUES": false,
              "GENERATE_DEX_METADATA": false,
              "HTML_TABLE_SCHEMA": false,
              "LOG_LEVEL": 30,
              "MAX_RENDER_SIZE_BYTES": 104857600,
              "MAX_STRING_LENGTH": 250,
              "NUM_PAST_SAMPLES_TRACKED": 3,
              "RANDOM_STATE": 12648430,
              "RESET_INDEX_VALUES": false,
              "ROW_SAMPLING_METHOD": "random",
              "SAMPLING_FACTOR": 0.1,
              "SAMPLING_METHOD": "random",
              "STRINGIFY_COLUMN_VALUES": true,
              "STRINGIFY_INDEX_VALUES": false
            },
            "sample_history": [],
            "sampling_time": "2023-10-12T21:37:30.534629",
            "user_variable_name": null,
            "variable_name": "unk_dataframe_2dd4e5dc4998408baaebf8f07b7e8b6a"
          },
          "5975eaf8-1f8a-4283-a95d-c40aea14de19": {
            "applied_filters": [],
            "dataframe_info": {
              "default_index_used": false,
              "orig_num_cols": 6,
              "orig_num_rows": 5,
              "orig_size_bytes": 280,
              "truncated_num_cols": 6,
              "truncated_num_rows": 5,
              "truncated_size_bytes": 280,
              "truncated_string_columns": []
            },
            "display_id": "5975eaf8-1f8a-4283-a95d-c40aea14de19",
            "dx_settings": {
              "ALLOW_NOTEABLE_ATTRS": true,
              "COLUMN_SAMPLING_METHOD": "outer",
              "DB_LOCATION": ":memory:",
              "DEV_MODE": false,
              "DISPLAY_MAX_COLUMNS": 100,
              "DISPLAY_MAX_ROWS": 50000,
              "DISPLAY_MODE": "simple",
              "ENABLE_ASSIGNMENT": true,
              "ENABLE_DATALINK": true,
              "FLATTEN_COLUMN_VALUES": true,
              "FLATTEN_INDEX_VALUES": false,
              "GENERATE_DEX_METADATA": false,
              "HTML_TABLE_SCHEMA": false,
              "LOG_LEVEL": 30,
              "MAX_RENDER_SIZE_BYTES": 104857600,
              "MAX_STRING_LENGTH": 250,
              "NUM_PAST_SAMPLES_TRACKED": 3,
              "RANDOM_STATE": 12648430,
              "RESET_INDEX_VALUES": false,
              "ROW_SAMPLING_METHOD": "random",
              "SAMPLING_FACTOR": 0.1,
              "SAMPLING_METHOD": "random",
              "STRINGIFY_COLUMN_VALUES": true,
              "STRINGIFY_INDEX_VALUES": false
            },
            "sample_history": [],
            "sampling_time": "2023-10-12T21:43:51.838287",
            "user_variable_name": null,
            "variable_name": "unk_dataframe_ce15f02514b8435ea9cca8760371900f"
          },
          "b6dea78b-c82a-464b-8877-35f53aa4b408": {
            "applied_filters": [],
            "dataframe_info": {
              "default_index_used": false,
              "orig_num_cols": 6,
              "orig_num_rows": 5,
              "orig_size_bytes": 280,
              "truncated_num_cols": 6,
              "truncated_num_rows": 5,
              "truncated_size_bytes": 280,
              "truncated_string_columns": []
            },
            "display_id": "b6dea78b-c82a-464b-8877-35f53aa4b408",
            "dx_settings": {
              "ALLOW_NOTEABLE_ATTRS": true,
              "COLUMN_SAMPLING_METHOD": "outer",
              "DB_LOCATION": ":memory:",
              "DEV_MODE": false,
              "DISPLAY_MAX_COLUMNS": 100,
              "DISPLAY_MAX_ROWS": 50000,
              "DISPLAY_MODE": "simple",
              "ENABLE_ASSIGNMENT": true,
              "ENABLE_DATALINK": true,
              "FLATTEN_COLUMN_VALUES": true,
              "FLATTEN_INDEX_VALUES": false,
              "GENERATE_DEX_METADATA": false,
              "HTML_TABLE_SCHEMA": false,
              "LOG_LEVEL": 30,
              "MAX_RENDER_SIZE_BYTES": 104857600,
              "MAX_STRING_LENGTH": 250,
              "NUM_PAST_SAMPLES_TRACKED": 3,
              "RANDOM_STATE": 12648430,
              "RESET_INDEX_VALUES": false,
              "ROW_SAMPLING_METHOD": "random",
              "SAMPLING_FACTOR": 0.1,
              "SAMPLING_METHOD": "random",
              "STRINGIFY_COLUMN_VALUES": true,
              "STRINGIFY_INDEX_VALUES": false
            },
            "sample_history": [],
            "sampling_time": "2023-10-12T22:02:49.564632",
            "user_variable_name": null,
            "variable_name": "unk_dataframe_e1e8a75324ff48c6a9209dcad77d689d"
          }
        }
      },
      "execution_count": null,
      "source": "import matplotlib.pyplot as plt\nimport seaborn as sns\n\n# Grouping by quarter and calculating revenue and profit\nquarterly_data = merged_data.groupby([merged_data['Date of Travel'].dt.to_period('Q'), 'Company'])[['Price Charged', 'Cost of Trip']].sum().reset_index()\nquarterly_data['Profit'] = quarterly_data['Price Charged'] - quarterly_data['Cost of Trip']\n\n# Plotting\nplt.figure(figsize=(14, 8))\nfor company, color in [('Yellow Cab', 'yellow'), ('Pink Cab', 'pink')]:\n    company_data = quarterly_data[quarterly_data['Company'] == company]\n    plt.plot(company_data['Date of Travel'].astype(str), company_data['Price Charged']/1e6, label=f'Revenue {company}', color=color, linewidth=2.5)\n    plt.plot(company_data['Date of Travel'].astype(str), company_data['Profit']/1e6, label=f'Profit {company}', linestyle='--', color=color, linewidth=2.5)\n\n# Formatting the plot\nplt.title('Quarterly Revenue and Profit by Company', fontsize=16, fontweight='bold')\nplt.xlabel('Quarter', fontsize=15)\nplt.xticks(rotation=45, fontsize=13)\nplt.ylabel('Amount (in millions USD)', fontsize=15)\nplt.yticks(fontsize=13)\nplt.legend(loc='upper left', fontsize=15)\nplt.grid(True, which='both', linestyle='--', linewidth=1)\nplt.tight_layout()\nplt.show()",
      "outputs": []
    },
    {
      "id": "ff276bcb-23c7-4e43-a1a7-d540c66a7eeb",
      "cell_type": "markdown",
      "source": "### Analysis\nYellow Cab consistently dominates the market, outperforming Pink Cab in both revenue and profit across all quarters, indicating a stronger market presence and possibly a broader customer base or superior pricing strategies. Both companies exhibit seasonal trends in their earnings, with certain quarters like Q2 and Q4 showing higher revenues, potentially due to factors like holidays or promotional campaigns.\n\nFrom an investment perspective, Yellow Cab appears as the more stable choice, showcasing consistent profitability. However, Pink Cab's fluctuating profit margins suggest potential growth opportunities if operational challenges are addressed. While Yellow Cab seems to be the safer bet, integrating external data like US holiday patterns could offer deeper insights, making Pink Cab an intriguing option for diversified investment.",
      "metadata": {
        "noteable": {
          "cell_type": "markdown"
        }
      }
    },
    {
      "id": "5f3b6350-2f8d-46f4-801b-dcca02c44f68",
      "cell_type": "markdown",
      "source": "## Gender Distribution Across Cab Companies",
      "metadata": {
        "noteable": {
          "cell_type": "markdown"
        }
      }
    },
    {
      "id": "0b1c4f62-f108-48c4-b393-a8133b3c1ab8",
      "cell_type": "code",
      "metadata": {
        "noteable": {
          "cell_type": "code",
          "output_collection_id": "0747be9b-246a-47a9-acbd-55fabfefb0f3"
        },
        "ExecuteTime": {
          "end_time": "2023-10-14T00:52:57.607591+00:00",
          "start_time": "2023-10-14T00:52:57.129923+00:00"
        }
      },
      "execution_count": null,
      "source": "import matplotlib.pyplot as plt\nimport seaborn as sns\n\n# Data preparation\ngender_data = merged_data.groupby(['Company', 'Gender']).size().reset_index(name='Counts')\n\n# Create a pie chart for each company\ncompanies = ['Yellow Cab', 'Pink Cab']\ncolors = ['#FFD700', '#FF69B4']  # Yellow for male, Pink for female\nfig, axs = plt.subplots(1, 2, figsize=(15, 7))\n\nfor ax, company in zip(axs, companies):\n    company_data = gender_data[gender_data['Company'] == company]\n    ax.pie(company_data['Counts'], labels=company_data['Gender'], colors=colors, autopct='%1.1f%%', startangle=140, wedgeprops=dict(width=0.3))\n    ax.set_title(company)\n\nplt.suptitle('Gender Distribution Across Cab Companies', fontsize=16)\nplt.show()",
      "outputs": []
    },
    {
      "id": "b0d0ab90-a070-4fb9-b539-58eff56345ed",
      "cell_type": "markdown",
      "source": "### Analysis of Gender distribution Pink Cab Vs. Yellow Cab Company\nThe pie charts provide a clear visualization of the gender distribution across both Yellow Cab and Pink Cab companies. For the Yellow Cab company, the distribution is almost even, with males representing approximately 50.7% and females constituting 49.3%. This suggests that the Yellow Cab service is equally preferred by both genders. On the other hand, the Pink Cab company shows a slightly higher preference among males, with males making up 52.3% and females 47.7% of the customer base. The slight male dominance in Pink Cab's customer base might be attributed to various factors, including marketing strategies or service offerings. However, it's essential to note that both companies have a relatively balanced gender distribution, indicating that cab services are universally utilized across genders. The pie chart visualization offers a direct comparison and an immediate understanding of the gender split for each company.\n\n\n\n\n",
      "metadata": {
        "noteable": {
          "cell_type": "markdown"
        }
      }
    },
    {
      "id": "7f25a5be-fa70-4b7b-bca9-fc68c405b1eb",
      "cell_type": "markdown",
      "source": "## Distribution of Customers by Age Group and Cab Company",
      "metadata": {
        "noteable": {
          "cell_type": "markdown"
        }
      }
    },
    {
      "id": "70bac0d4-acc6-4bad-8a1e-df1f62e716fe",
      "cell_type": "code",
      "metadata": {
        "noteable": {
          "cell_type": "code",
          "output_collection_id": "c2229adf-d65a-495f-8f52-b6906e7791f2"
        },
        "ExecuteTime": {
          "end_time": "2023-10-14T01:05:47.836126+00:00",
          "start_time": "2023-10-14T01:05:47.327280+00:00"
        }
      },
      "execution_count": null,
      "source": "import numpy as np\n# Define age groups\nbins = [18, 30, 40, 50, 60, 70, 80]\nlabels = ['18-29', '30-39', '40-49', '50-59', '60-69', '70+']\nmerged_data['Age Group'] = pd.cut(merged_data['Age'], bins=bins, labels=labels, right=False)\n\n# Plotting\nplt.figure(figsize=(12, 7))\nsns.countplot(data=merged_data, x='Age Group', hue='Company', palette=['pink', 'yellow'])\nplt.title('Distribution of Customers by Age Group and Cab Company', fontsize=16)\nplt.xlabel('Age Group', fontsize=14)\nplt.ylabel('Number of Customers', fontsize=14)\nplt.legend(title='Cab Company')\nplt.show()",
      "outputs": []
    },
    {
      "id": "897efd36-675b-4107-8b51-e3c6c4eaebd6",
      "cell_type": "markdown",
      "source": "### Analysis of Customer Distribution by Age Group and Cab Company\n\nThe visualization showcases the distribution of customers across various age groups for both Yellow Cab and Pink Cab companies. A few key observations can be made:\n\nYounger Demographic Preference: The age group '18-29' has the highest number of customers for both cab companies, indicating that younger individuals are more inclined to use cab services. This could be attributed to factors like urban lifestyle, tech-savviness, or the convenience of app-based cab bookings. While both companies have a significant presence in this age bracket, Yellow Cab dominates with a considerably higher customer count.\n\nDecline in Older Age Groups: As the age group increases, there's a noticeable decline in the number of customers for both companies. The '70+' age group has the least number of customers, suggesting that older individuals might prefer other modes of transportation or are less frequent travelers. However, in every age group, Yellow Cab maintains a lead over Pink Cab, emphasizing its broader appeal or market presence across all age demographics.",
      "metadata": {
        "noteable": {
          "cell_type": "markdown"
        }
      }
    },
    {
      "id": "da8f80d2-bf11-4364-ad1a-da123d31c446",
      "cell_type": "markdown",
      "source": "## Merge dataset to analyze based on cities",
      "metadata": {
        "noteable": {
          "cell_type": "markdown"
        }
      }
    },
    {
      "id": "f0840332-7790-4bfc-8f8b-7b3c011dd261",
      "cell_type": "code",
      "metadata": {
        "ExecuteTime": {
          "end_time": "2023-10-14T00:57:39.687865+00:00",
          "start_time": "2023-10-14T00:57:35.954869+00:00"
        },
        "datalink": {
          "862bf520-262d-44b5-9966-810a5f901c7e": {
            "applied_filters": [],
            "dataframe_info": {
              "default_index_used": true,
              "orig_num_cols": 14,
              "orig_num_rows": 5,
              "orig_size_bytes": 600,
              "truncated_num_cols": 14,
              "truncated_num_rows": 5,
              "truncated_size_bytes": 600,
              "truncated_string_columns": []
            },
            "display_id": "862bf520-262d-44b5-9966-810a5f901c7e",
            "dx_settings": {
              "ALLOW_NOTEABLE_ATTRS": true,
              "COLUMN_SAMPLING_METHOD": "outer",
              "DB_LOCATION": ":memory:",
              "DEV_MODE": false,
              "DISPLAY_MAX_COLUMNS": 100,
              "DISPLAY_MAX_ROWS": 50000,
              "DISPLAY_MODE": "simple",
              "ENABLE_ASSIGNMENT": true,
              "ENABLE_DATALINK": true,
              "FLATTEN_COLUMN_VALUES": true,
              "FLATTEN_INDEX_VALUES": false,
              "GENERATE_DEX_METADATA": false,
              "HTML_TABLE_SCHEMA": false,
              "LOG_LEVEL": 30,
              "MAX_RENDER_SIZE_BYTES": 104857600,
              "MAX_STRING_LENGTH": 250,
              "NUM_PAST_SAMPLES_TRACKED": 3,
              "RANDOM_STATE": 12648430,
              "RESET_INDEX_VALUES": false,
              "ROW_SAMPLING_METHOD": "random",
              "SAMPLING_FACTOR": 0.1,
              "SAMPLING_METHOD": "random",
              "STRINGIFY_COLUMN_VALUES": true,
              "STRINGIFY_INDEX_VALUES": false
            },
            "sample_history": [],
            "sampling_time": "2023-10-11T20:07:52.464412",
            "user_variable_name": null,
            "variable_name": "unk_dataframe_8831acb608fe4c03a4fc655d2fc41793"
          },
          "a1958424-71e7-44a1-b88f-48400f1b7d1c": {
            "applied_filters": [],
            "dataframe_info": {
              "default_index_used": true,
              "orig_num_cols": 16,
              "orig_num_rows": 15,
              "orig_size_bytes": 2155,
              "truncated_num_cols": 16,
              "truncated_num_rows": 15,
              "truncated_size_bytes": 2155,
              "truncated_string_columns": []
            },
            "display_id": "a1958424-71e7-44a1-b88f-48400f1b7d1c",
            "dx_settings": {
              "ALLOW_NOTEABLE_ATTRS": true,
              "COLUMN_SAMPLING_METHOD": "outer",
              "DB_LOCATION": ":memory:",
              "DEV_MODE": false,
              "DISPLAY_MAX_COLUMNS": 100,
              "DISPLAY_MAX_ROWS": 50000,
              "DISPLAY_MODE": "simple",
              "ENABLE_ASSIGNMENT": true,
              "ENABLE_DATALINK": true,
              "FLATTEN_COLUMN_VALUES": true,
              "FLATTEN_INDEX_VALUES": false,
              "GENERATE_DEX_METADATA": false,
              "HTML_TABLE_SCHEMA": false,
              "LOG_LEVEL": 30,
              "MAX_RENDER_SIZE_BYTES": 104857600,
              "MAX_STRING_LENGTH": 250,
              "NUM_PAST_SAMPLES_TRACKED": 3,
              "RANDOM_STATE": 12648430,
              "RESET_INDEX_VALUES": false,
              "ROW_SAMPLING_METHOD": "random",
              "SAMPLING_FACTOR": 0.1,
              "SAMPLING_METHOD": "random",
              "STRINGIFY_COLUMN_VALUES": true,
              "STRINGIFY_INDEX_VALUES": false
            },
            "sample_history": [],
            "sampling_time": "2023-10-11T21:03:01.195723",
            "user_variable_name": null,
            "variable_name": "unk_dataframe_6b5097a728d54c32845b106f974a58ac"
          },
          "bef964ce-bcef-4a59-8fde-7887a7aee4d5": {
            "applied_filters": [],
            "dataframe_info": {
              "default_index_used": true,
              "orig_num_cols": 14,
              "orig_num_rows": 15,
              "orig_size_bytes": 1800,
              "truncated_num_cols": 14,
              "truncated_num_rows": 15,
              "truncated_size_bytes": 1800,
              "truncated_string_columns": []
            },
            "display_id": "bef964ce-bcef-4a59-8fde-7887a7aee4d5",
            "dx_settings": {
              "ALLOW_NOTEABLE_ATTRS": true,
              "COLUMN_SAMPLING_METHOD": "outer",
              "DB_LOCATION": ":memory:",
              "DEV_MODE": false,
              "DISPLAY_MAX_COLUMNS": 100,
              "DISPLAY_MAX_ROWS": 50000,
              "DISPLAY_MODE": "simple",
              "ENABLE_ASSIGNMENT": true,
              "ENABLE_DATALINK": true,
              "FLATTEN_COLUMN_VALUES": true,
              "FLATTEN_INDEX_VALUES": false,
              "GENERATE_DEX_METADATA": false,
              "HTML_TABLE_SCHEMA": false,
              "LOG_LEVEL": 30,
              "MAX_RENDER_SIZE_BYTES": 104857600,
              "MAX_STRING_LENGTH": 250,
              "NUM_PAST_SAMPLES_TRACKED": 3,
              "RANDOM_STATE": 12648430,
              "RESET_INDEX_VALUES": false,
              "ROW_SAMPLING_METHOD": "random",
              "SAMPLING_FACTOR": 0.1,
              "SAMPLING_METHOD": "random",
              "STRINGIFY_COLUMN_VALUES": true,
              "STRINGIFY_INDEX_VALUES": false
            },
            "sample_history": [],
            "sampling_time": "2023-10-12T20:48:10.270980",
            "user_variable_name": null,
            "variable_name": "unk_dataframe_39b49375e5cd4413bf1db3c9d02f4493"
          },
          "8dbb978f-c5fe-4d01-b348-d090ce3d617a": {
            "applied_filters": [],
            "dataframe_info": {
              "default_index_used": true,
              "orig_num_cols": 14,
              "orig_num_rows": 15,
              "orig_size_bytes": 1800,
              "truncated_num_cols": 14,
              "truncated_num_rows": 15,
              "truncated_size_bytes": 1800,
              "truncated_string_columns": []
            },
            "display_id": "8dbb978f-c5fe-4d01-b348-d090ce3d617a",
            "dx_settings": {
              "ALLOW_NOTEABLE_ATTRS": true,
              "COLUMN_SAMPLING_METHOD": "outer",
              "DB_LOCATION": ":memory:",
              "DEV_MODE": false,
              "DISPLAY_MAX_COLUMNS": 100,
              "DISPLAY_MAX_ROWS": 50000,
              "DISPLAY_MODE": "simple",
              "ENABLE_ASSIGNMENT": true,
              "ENABLE_DATALINK": true,
              "FLATTEN_COLUMN_VALUES": true,
              "FLATTEN_INDEX_VALUES": false,
              "GENERATE_DEX_METADATA": false,
              "HTML_TABLE_SCHEMA": false,
              "LOG_LEVEL": 30,
              "MAX_RENDER_SIZE_BYTES": 104857600,
              "MAX_STRING_LENGTH": 250,
              "NUM_PAST_SAMPLES_TRACKED": 3,
              "RANDOM_STATE": 12648430,
              "RESET_INDEX_VALUES": false,
              "ROW_SAMPLING_METHOD": "random",
              "SAMPLING_FACTOR": 0.1,
              "SAMPLING_METHOD": "random",
              "STRINGIFY_COLUMN_VALUES": true,
              "STRINGIFY_INDEX_VALUES": false
            },
            "sample_history": [],
            "sampling_time": "2023-10-14T00:57:39.523518",
            "user_variable_name": null,
            "variable_name": "unk_dataframe_e4651f8c4860432fbdb13c7ef6cd8f24"
          }
        },
        "noteable": {
          "cell_type": "code",
          "output_collection_id": "62525bcf-391e-4d05-958b-5e7196d30188"
        }
      },
      "execution_count": null,
      "source": "# Joining the merged data with City on 'City' column\nmerged_data_with_city = pd.merge(merged_data, city_data, on='City', how='left')\n\n# Display the first few rows of the final dataset\nmerged_data_with_city.head(15)",
      "outputs": []
    },
    {
      "id": "ea389ee2-57f1-4231-b484-d84a10c61524",
      "cell_type": "markdown",
      "source": "## Profit distribution by city and cab company",
      "metadata": {
        "noteable": {
          "cell_type": "markdown"
        }
      }
    },
    {
      "id": "5f32c885-4dc5-43e2-8996-81ae3d2c9c4b",
      "cell_type": "markdown",
      "source": "### Analysis of Cab Service Payment Trends\n\nThe pie chart vividly illustrates the payment preferences of customers across two major cab service providers: Pink Cab and Yellow Cab. For both companies, card payments dominate, underscoring a broader trend in consumer behavior favoring digital transactions. Specifically, Yellow Cab sees an overwhelming preference for card payments, with a staggering 85% of its customers opting for this mode. Pink Cab, while also leaning towards card transactions, has a slightly more balanced distribution, with approximately 70% of its users choosing cards.\n\nThis divergence in payment methods between the two companies might hint at differing customer demographics or operational strategies. For instance, Yellow Cab's higher card payment percentage could suggest a more tech-savvy user base or perhaps more effective promotions encouraging digital payments. On the other hand, Pink Cab's relatively higher cash transactions might indicate a customer base that values traditional payment methods or operates in areas with less digital penetration. For both companies, understanding these nuances is essential to tailor their payment infrastructure and marketing strategies effectively.",
      "metadata": {
        "noteable": {
          "cell_type": "markdown"
        }
      }
    },
    {
      "id": "777e75bd-6952-47f6-bf37-bf776da010ef",
      "cell_type": "code",
      "metadata": {
        "noteable": {
          "cell_type": "code",
          "output_collection_id": "ce46fa0f-0f43-4990-b6b0-e1eb754f79a5"
        },
        "ExecuteTime": {
          "end_time": "2023-10-14T01:01:03.419350+00:00",
          "start_time": "2023-10-14T01:01:02.735010+00:00"
        }
      },
      "execution_count": null,
      "source": "# Calculate average profit for each city and cab company\nmerged_data_with_city['Profit'] = merged_data_with_city['Price Charged'] - merged_data_with_city['Cost of Trip']\ncitywise_profit = merged_data_with_city.groupby(['City', 'Company'])['Profit'].mean().reset_index()\n\n# Visualize the average profit for each city and cab company\nplt.figure(figsize=(15, 8))\nsns.barplot(x='City', y='Profit', hue='Company', data=citywise_profit)\nplt.title('Average Profit by City and Cab Company')\nplt.xticks(rotation=45)\nplt.show()",
      "outputs": []
    },
    {
      "id": "70cd243a-ec65-424a-85d6-b49c55f9277e",
      "cell_type": "markdown",
      "source": "### Analysis profit by city and cab company\nThe visualization showcases the average profit margins for both Yellow and Pink cab companies across various cities. It's evident that Yellow Cab consistently outperforms Pink Cab in terms of profit across almost all cities. Cities like New York, Los Angeles, and San Francisco, which are major urban centers, show the highest profit margins for Yellow Cab. This could be attributed to a higher demand, longer trips, or a more established presence in these cities. On the other hand, Pink Cab, while still profitable, lags behind in these major cities. It's worth noting that in some cities like Pittsburgh and Sacramento, Pink Cab's profit is closer to Yellow Cab, suggesting that there might be opportunities or market dynamics in these cities that Pink Cab can further capitalize on.",
      "metadata": {
        "noteable": {
          "cell_type": "markdown"
        }
      }
    },
    {
      "id": "d6e33c03-2c36-4750-8e1b-58baa472ba9c",
      "cell_type": "markdown",
      "source": "## Customer distribution by city and cab company",
      "metadata": {
        "noteable": {
          "cell_type": "markdown"
        }
      }
    },
    {
      "id": "18ec9e89-3a56-404e-925f-1a1dd3dd2668",
      "cell_type": "code",
      "metadata": {
        "noteable": {
          "cell_type": "code",
          "output_collection_id": "758b29eb-0893-4975-8634-1bf3f20e6b34"
        },
        "ExecuteTime": {
          "end_time": "2023-10-14T01:26:47.184733+00:00",
          "start_time": "2023-10-14T01:26:46.549384+00:00"
        }
      },
      "execution_count": null,
      "source": "import seaborn as sns\n\n# Set the style of the visualization\nsns.set(style=\"whitegrid\")\n\n# Create a treemap\nfig, ax = plt.subplots(figsize=(15, 10))\ncity_company_data = merged_data_with_city.groupby(['City', 'Company']).size().reset_index(name='Counts')\ncity_company_data = city_company_data.pivot('City', 'Company', 'Counts')\nsns.heatmap(city_company_data, cmap='YlGnBu', annot=True, fmt='g', linewidths=.5, ax=ax)\n\nax.set_title('Customer Distribution by City and Cab Company', fontsize=16)\nplt.show()",
      "outputs": []
    },
    {
      "id": "255e222e-07dc-4021-976e-1be06343c6c6",
      "cell_type": "markdown",
      "source": "### Analysis of Customer Distribution by City and Cab Company\n\nThe heatmap provides a clear visualization of the customer distribution across various cities for both Pink Cab and Yellow Cab companies. At a glance, it's evident that Yellow Cab has a more extensive customer base in almost all cities compared to Pink Cab. Cities like New York, Chicago, and Los Angeles have the highest concentration of Yellow Cab users, with New York leading by a significant margin. This dominance in major cities indicates Yellow Cab's strong market presence and possibly more extensive operations in these regions.\n\nOn the other hand, Pink Cab has a relatively smaller customer base in these cities, but it's worth noting that they still maintain a presence. The difference in customer counts between the two companies is especially pronounced in cities like San Diego and Seattle. For investors or stakeholders, this heatmap can serve as a guide to understand market penetration and potential growth areas. While Yellow Cab seems to have captured the major cities, Pink Cab might find opportunities in expanding its services or focusing on niche markets within these cities.",
      "metadata": {
        "noteable": {
          "cell_type": "markdown"
        }
      }
    },
    {
      "id": "6b4ec71d-e4e4-4111-97df-1704da51d79d",
      "cell_type": "markdown",
      "source": "## Comparative Profit Landscape: City-wise Breakdown for Yellow Cab and Pink Cab\"",
      "metadata": {
        "noteable": {
          "cell_type": "markdown"
        }
      }
    },
    {
      "id": "cb4d92d8-88ab-44c8-a0c1-46b12fdbbb58",
      "cell_type": "code",
      "metadata": {
        "noteable": {
          "cell_type": "code",
          "output_collection_id": "9a694f3a-113c-4ff5-b036-b2914fd02c9a"
        },
        "ExecuteTime": {
          "end_time": "2023-10-14T01:37:42.233869+00:00",
          "start_time": "2023-10-14T01:37:41.602373+00:00"
        }
      },
      "execution_count": null,
      "source": "import matplotlib.pyplot as plt\nimport numpy as np\n\n# Extracting data for the plot\ncitywise_profit = merged_data_with_city.groupby(['City', 'Company'])['Profit'].sum().unstack().fillna(0)\ncities_sorted_by_profit = citywise_profit.sum(axis=1).sort_values(ascending=False).index\ncitywise_profit = citywise_profit.loc[cities_sorted_by_profit]\n\n# Plotting\nfig, ax = plt.subplots(figsize=(15, 8))\ncitywise_profit.divide(1e6).plot(kind='area', stacked=True, ax=ax, alpha=0.7)\n\n# Formatting the plot\nax.set_title('Comparative Profit Landscape: City-wise Breakdown for Yellow Cab and Pink Cab', fontsize=16, fontweight='bold')\nax.set_xlabel('City', fontsize=15)\nax.set_ylabel('Total Profit (in millions USD)', fontsize=15)\nax.tick_params(axis='x', rotation=45)\nax.legend(title='Cab Company', fontsize=12)\nax.grid(True, which='both', linestyle='--', linewidth=0.5)\nplt.tight_layout()\nplt.show()",
      "outputs": []
    },
    {
      "id": "9624d696-2212-477f-b45c-8d27a48d8ad5",
      "cell_type": "markdown",
      "source": "### Analysis of total profit by city and cab company\nThe stacked area chart provides a comprehensive view of the profit landscape across various cities for both Yellow Cab and Pink Cab. It's evident that certain cities, such as New York, Chicago, and Los Angeles, are major profit centers for both companies, with Yellow Cab consistently outperforming Pink Cab. The chart also reveals that while Yellow Cab has a broader profit distribution across multiple cities, Pink Cab's profit is more concentrated in specific regions. This could be attributed to Yellow Cab's expansive operational presence or more effective market strategies. For potential investors, understanding these city-wise profit dynamics is crucial, as it highlights the regions where each company has a stronghold and where there might be opportunities for growth or increased competition.",
      "metadata": {
        "noteable": {
          "cell_type": "markdown"
        }
      }
    },
    {
      "id": "d99526ea-db5a-46f7-991a-eed58f53fcbc",
      "cell_type": "markdown",
      "source": "## Conclusion\nBased on the data analysis of the two cab companies over the specified time period, several key insights emerge\n\n### Market Presence:\nYellow Cab has a dominant presence across most cities, especially in major urban centers. This suggests a well-established network and potentially a broader customer base.\n\n### Profitability: \nWhile both companies have shown growth, Yellow Cab consistently outperforms Pink Cab in terms of profitability. This could be attributed to better operational efficiencies, pricing strategies, or a combination of factors.\n\n### Customer Preferences:\nThe analysis of payment modes and customer demographics provides insights into the preferences and behaviors of the customers of each company. Digital payments dominate, indicating a shift towards cashless transactions.\n\n### Seasonal Trends:\nBoth companies exhibit seasonal trends in their earnings. Understanding these patterns can help in strategizing promotional campaigns or offers to boost revenues during peak seasons.\n\nIn conclusion, Yellow Cab appears to be the more stable and profitable choice for investment. However, Pink Cab, with its unique customer demographics and potential growth opportunities, offers a chance for diversified investment. For XYZ, the decision should factor in both the current market dynamics and future growth potential of the cab industry.",
      "metadata": {
        "noteable": {
          "cell_type": "markdown"
        }
      }
    }
  ]
}